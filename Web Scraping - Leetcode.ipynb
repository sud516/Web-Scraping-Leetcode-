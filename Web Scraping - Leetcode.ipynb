{
 "cells": [
  {
   "cell_type": "markdown",
   "id": "aa1338d8",
   "metadata": {},
   "source": [
    "# Web Scraping top 50 Questions of Leetcode \n",
    "\n",
    "Description:\n",
    "\n",
    "Introduction to Web Scraping\n",
    "- Web scraping is the process of extracting and parsing data from websites in an automated fashion using a computer program. It's a useful technique for creating datasets for research and learning.\n",
    "\n",
    "Introduction about Leetcode\n",
    "- Leetcode is an online coding platform consisting of a number of questions based on Data Structures and Algorithm and Database Queries.\n",
    "\n",
    "Tools used\n",
    "- python, requests, beautifulsoup, pandas\n",
    "\n",
    "Links used\n",
    "- Leetcode Problem Set : https://leetcode.com/problemset/all/\n",
    "\n"
   ]
  },
  {
   "cell_type": "markdown",
   "id": "fe967129",
   "metadata": {},
   "source": [
    "Installing and importing of required modules\n"
   ]
  },
  {
   "cell_type": "code",
   "execution_count": 146,
   "id": "df9c4655",
   "metadata": {},
   "outputs": [],
   "source": [
    "!pip install requests --upgrade --quiet\n",
    "!pip install beautifulsoup4 --upgrade --quiet\n",
    "!pip install pandas --upgrade --quiet"
   ]
  },
  {
   "cell_type": "code",
   "execution_count": 147,
   "id": "9bd7b87e",
   "metadata": {},
   "outputs": [],
   "source": [
    "import requests\n",
    "from bs4 import BeautifulSoup\n",
    "import pandas as pd\n",
    "import sqlite3"
   ]
  },
  {
   "cell_type": "markdown",
   "id": "0cff4799",
   "metadata": {},
   "source": [
    "Here are the steps we'll follow:\n",
    "- We're going to scrape leetcode_url https://leetcode.com/problemset/all/\n",
    "- We'll get the top 50 questions of leetcode. For each question, we will store the question name, difficulty, acceptance, link\n",
    "- We'll then create a dictonary out of the above data and with the help of pandas, we'll convert it into dataframe\n",
    "- We'll make use of this dataframe to store the scraped data into a csv file as well as database(with the help of sqlite module)"
   ]
  },
  {
   "cell_type": "code",
   "execution_count": 148,
   "id": "954ec44f",
   "metadata": {},
   "outputs": [],
   "source": [
    "leetcode_url='https://leetcode.com/problemset/all/'\n",
    "response= requests.get(leetcode_url)\n",
    "page_contents=response.text   \n",
    "doc=BeautifulSoup(page_contents,'html.parser')\n",
    "selection_class='h-5 hover:text-primary-s dark:hover:text-dark-primary-s'\n",
    "total_topic=doc.find_all('a',{'class':selection_class})\n",
    "base_url=\"https://leetcode.com\""
   ]
  },
  {
   "cell_type": "code",
   "execution_count": 149,
   "id": "91743b62",
   "metadata": {},
   "outputs": [],
   "source": [
    "topic_url=[]\n",
    "topic_title=[]\n",
    "topic_difficulty=[]\n",
    "topic_acceptance=[]\n",
    "\n",
    "for i in total_topic:\n",
    "    topic_url.append(base_url+i['href'])\n",
    "    \n",
    "total_topic_a=doc.find('div',{'role':'rowgroup'})\n",
    "\n",
    "for child in total_topic_acceptance.contents[0:50]:\n",
    "    topic_difficulty.append(child.contents[5].text.strip())\n",
    "    topic_acceptance.append(child.contents[4].text.strip())\n",
    "    topic_title.append(child.contents[1].text.strip()[3:])\n",
    "    \n",
    "topics_dict={\n",
    "    'Question':topic_title,\n",
    "    'Difficulty':topic_difficulty,\n",
    "    'Acceptance':topic_acceptance,\n",
    "    'Link':topic_url\n",
    "}\n",
    "\n",
    "topics_df=pd.DataFrame(topics_dict,index=None)\n",
    "\n",
    "# Saving the scraped data in a csv file\n",
    "topics_df.to_csv('leetcode.csv',index=None)\n",
    "\n",
    "# Saving the scraped data in a database\n",
    "db=sqlite3.connect('Leetcode.sqlite')\n",
    "topics_df.to_sql(\"LeetcodeTable\",db,if_exists=\"replace\")\n",
    "\n"
   ]
  }
 ],
 "metadata": {
  "kernelspec": {
   "display_name": "Python 3 (ipykernel)",
   "language": "python",
   "name": "python3"
  },
  "language_info": {
   "codemirror_mode": {
    "name": "ipython",
    "version": 3
   },
   "file_extension": ".py",
   "mimetype": "text/x-python",
   "name": "python",
   "nbconvert_exporter": "python",
   "pygments_lexer": "ipython3",
   "version": "3.9.7"
  }
 },
 "nbformat": 4,
 "nbformat_minor": 5
}
